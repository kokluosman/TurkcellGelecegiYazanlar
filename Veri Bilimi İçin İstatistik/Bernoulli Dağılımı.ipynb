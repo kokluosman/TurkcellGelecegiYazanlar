{
 "cells": [
  {
   "cell_type": "code",
   "execution_count": 3,
   "metadata": {},
   "outputs": [],
   "source": [
    "from scipy.stats import bernoulli"
   ]
  },
  {
   "cell_type": "code",
   "execution_count": 4,
   "metadata": {},
   "outputs": [],
   "source": [
    "p = 0.6"
   ]
  },
  {
   "cell_type": "code",
   "execution_count": 5,
   "metadata": {},
   "outputs": [
    {
     "data": {
      "text/plain": [
       "0.6"
      ]
     },
     "execution_count": 5,
     "metadata": {},
     "output_type": "execute_result"
    }
   ],
   "source": [
    "rv = bernoulli(p)\n",
    "rv.pmf(k = 1)"
   ]
  },
  {
   "cell_type": "code",
   "execution_count": 6,
   "metadata": {},
   "outputs": [],
   "source": [
    "# Büyük Sayılar Yasası"
   ]
  },
  {
   "cell_type": "code",
   "execution_count": 8,
   "metadata": {},
   "outputs": [
    {
     "name": "stdout",
     "output_type": "stream",
     "text": [
      "Atış Sayısı: 2 --- Yazı olasılığı: 50.00\n",
      "Atış Sayısı: 4 --- Yazı olasılığı: 0.00\n",
      "Atış Sayısı: 8 --- Yazı olasılığı: 62.50\n",
      "Atış Sayısı: 16 --- Yazı olasılığı: 43.75\n",
      "Atış Sayısı: 32 --- Yazı olasılığı: 46.88\n",
      "Atış Sayısı: 64 --- Yazı olasılığı: 56.25\n",
      "Atış Sayısı: 128 --- Yazı olasılığı: 50.78\n",
      "Atış Sayısı: 256 --- Yazı olasılığı: 52.73\n",
      "Atış Sayısı: 512 --- Yazı olasılığı: 52.93\n",
      "Atış Sayısı: 1024 --- Yazı olasılığı: 50.20\n",
      "Atış Sayısı: 2048 --- Yazı olasılığı: 48.58\n",
      "Atış Sayısı: 4096 --- Yazı olasılığı: 49.49\n",
      "Atış Sayısı: 8192 --- Yazı olasılığı: 49.58\n",
      "Atış Sayısı: 16384 --- Yazı olasılığı: 49.96\n",
      "Atış Sayısı: 32768 --- Yazı olasılığı: 50.00\n",
      "Atış Sayısı: 65536 --- Yazı olasılığı: 49.68\n",
      "Atış Sayısı: 131072 --- Yazı olasılığı: 49.97\n",
      "Atış Sayısı: 262144 --- Yazı olasılığı: 50.13\n",
      "Atış Sayısı: 524288 --- Yazı olasılığı: 50.01\n",
      "Atış Sayısı: 1048576 --- Yazı olasılığı: 50.09\n"
     ]
    }
   ],
   "source": [
    "import numpy as np\n",
    "rng = np.random.RandomState(123) # Random işlemleri sabitlemek için\n",
    "for i in np.arange(1,21):\n",
    "    deney_sayisi = 2**i\n",
    "    yazi_turalar = rng.randint(0,2,size = deney_sayisi)\n",
    "    yazi__olasılıkları = np.mean(yazi_turalar)\n",
    "    print(\"Atış Sayısı:\",deney_sayisi,\"---\",\"Yazı olasılığı: %.2f\"%(yazi__olasılıkları*100))#Sağda yaılan işlemi noktadan sonra 2 li göster demek\n",
    "    "
   ]
  },
  {
   "cell_type": "code",
   "execution_count": null,
   "metadata": {},
   "outputs": [],
   "source": []
  },
  {
   "cell_type": "code",
   "execution_count": null,
   "metadata": {},
   "outputs": [],
   "source": []
  }
 ],
 "metadata": {
  "kernelspec": {
   "display_name": "Python 3",
   "language": "python",
   "name": "python3"
  },
  "language_info": {
   "codemirror_mode": {
    "name": "ipython",
    "version": 3
   },
   "file_extension": ".py",
   "mimetype": "text/x-python",
   "name": "python",
   "nbconvert_exporter": "python",
   "pygments_lexer": "ipython3",
   "version": "3.7.1"
  }
 },
 "nbformat": 4,
 "nbformat_minor": 2
}
